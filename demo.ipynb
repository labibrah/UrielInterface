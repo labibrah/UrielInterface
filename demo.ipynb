{
 "cells": [
  {
   "cell_type": "code",
   "execution_count": null,
   "metadata": {},
   "outputs": [],
   "source": [
    "import urielplus.urielplus as uriel\n",
    "u = uriel.URIELPlus()"
   ]
  },
  {
   "cell_type": "code",
   "execution_count": null,
   "metadata": {},
   "outputs": [],
   "source": [
    "#CONFIGURATIONS\n",
    "#Caching is default false to save memory, setting it True means updates to databases or imputation are saved to files\n",
    "u.set_cache(True)\n",
    "\n",
    "#Aggregation is default 'U' for union of typological feature data across sources in URIEL+, setting it 'A' means aggregation will be average of typological feature data across sources\n",
    "u.set_aggregation('A')\n",
    "\n",
    "#fill_with_base_lang means when aggregating typological feature data, the data of a language's parent is used to fill in missing data for the language\n",
    "#Ex: English is the parent language of Hong Kong English, and is used to fill in Hong Kong English's missing typological data\n",
    "#This configuration is default True as it provides the best feature coverage and imputation quality metrics\n",
    "u.set_fill_with_base_lang(False)\n",
    "\n",
    "#Prints the dictionary of parent languages and dialects used for filling in base language missing typological data during aggregation\n",
    "print(u.get_dialects())\n",
    "\n",
    "#Distance metric is default \"angular\". The distance metric chosen is how language vectors are compared for language distance calculations\n",
    "u.set_distance_metric(\"cosine\")"
   ]
  },
  {
   "cell_type": "code",
   "execution_count": null,
   "metadata": {},
   "outputs": [],
   "source": [
    "#DATABASES\n",
    "#Convert languages codes from ISO 639-3 codes to Glottocodes\n",
    "u.set_glottocodes()\n",
    "\n",
    "#Integrates all databases\n",
    "u.integrate_databases()\n",
    "\n",
    "#Integrates the provided databases\n",
    "u.integrate_custom_databases(\"GRAMBANK\", \"BDPROTO\", \"UPDATED_SAPHON\")\n",
    "\n",
    "#Integrate a specific database\n",
    "u.integrate_grambank()"
   ]
  },
  {
   "cell_type": "code",
   "execution_count": null,
   "metadata": {},
   "outputs": [],
   "source": [
    "#IMPUTATION\n",
    "#Computes the union or average of feature data across sources in URIEL+\n",
    "u.aggregate()\n",
    "\n",
    "#Imputes typological data with the provided imputation strategy\n",
    "u.imputation_interface(strategy=\"knn\")\n",
    "\n",
    "#Imputes typological data with a specific imputation strategy\n",
    "u.softimpute_imputation()\n",
    "\n",
    "#NOTE: All imputation methods print the imputation qualtiy metrics"
   ]
  },
  {
   "cell_type": "code",
   "execution_count": null,
   "metadata": {},
   "outputs": [],
   "source": [
    "#VECTORS\n",
    "#Prints all the vectors of the provided feature type for all provided languages\n",
    "print(u.get_vector(\"featural\", \"stan1293\", \"stan1290\", \"nucl1643\"))"
   ]
  },
  {
   "cell_type": "code",
   "execution_count": null,
   "metadata": {},
   "outputs": [],
   "source": [
    "#DISTANCES\n",
    "#Prints all languages available for distance calculations for a specific distance type\n",
    "print(u.get_available_distance_languages(\"syntactic\"))\n",
    "\n",
    "#Prints the provided feature type distance between all the provided languages. \n",
    "#2 languages provided returns a single number\n",
    "#3 or more languages provided returns a square matrix of distances\n",
    "print(u.new_distance(\"inventory\", \"stan1293\", \"stan1290\"))\n",
    "\n",
    "#Prints the specific distance between all the provided languages\n",
    "print(u.new_genetic_distance(\"stan1293\", \"stan1290\"))\n",
    "\n",
    "#Prints the distance between all the provided languages using only the provided features\n",
    "print(u.new_custom_distance([\"S_SVO\", \"Indo-European\", \"P_NASALS\"], \"stan1293\", \"stan1290\"))\n",
    "\n",
    "#Can have only a provided source used if all the features provided are in that source\n",
    "print(u.new_custom_distance([\"S_ARTICLE_AFTER_NOUN\", \"M_ASSOC_PLURAL_MARK\"], \"stan1293\", \"stan1290\", source=\"GRAMBANK\"))"
   ]
  },
  {
   "cell_type": "code",
   "execution_count": null,
   "metadata": {},
   "outputs": [],
   "source": [
    "#METRICS\n",
    "#Prints the number of languages that fall under the provided resource level with data of the provided feature type\n",
    "print(u.feature_coverage(\"high-resource\", \"syntactic\"))\n",
    "\n",
    "#Prints feature coverage for languages of all resource level and all feature types\n",
    "print(u.all_feature_coverage())\n",
    "\n",
    "#Prints the confidence score of the typological distance of the languages provided\n",
    "print(u.featural_confidence_score(\"stan1293\", \"stan1290\", \"syntactic\"))\n",
    "\n",
    "#Prints the confidence score of the non-typological distance of the languages provided\n",
    "print(u.non_featural_confidence_score(\"stan1293\", \"stan1290\", \"geographic\"))\n",
    "\n",
    "#Prints the confidence score of the provided feature type distance of the languages provided\n",
    "print(u.confidence_score(\"stan1293\", \"stan1290\", \"phonological\"))"
   ]
  }
 ],
 "metadata": {
  "kernelspec": {
   "display_name": "base",
   "language": "python",
   "name": "python3"
  },
  "language_info": {
   "name": "python",
   "version": "3.11.4"
  }
 },
 "nbformat": 4,
 "nbformat_minor": 2
}
